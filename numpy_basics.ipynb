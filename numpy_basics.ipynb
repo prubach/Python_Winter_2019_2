{
 "cells": [
  {
   "cell_type": "code",
   "execution_count": 1,
   "metadata": {},
   "outputs": [],
   "source": [
    "import matplotlib.pyplot as plt\n",
    "import numpy as np\n",
    "import sys\n",
    "import matplotlib\n",
    "from random import choice\n",
    "%matplotlib inline"
   ]
  },
  {
   "cell_type": "code",
   "execution_count": 11,
   "metadata": {
    "scrolled": true
   },
   "outputs": [
    {
     "name": "stdout",
     "output_type": "stream",
     "text": [
      "[[ 1  2  6]\n",
      " [ 5  6  7]\n",
      " [ 8  9 10]]\n",
      "[[ 1  5  8]\n",
      " [ 2  6  9]\n",
      " [ 6  7 10]]\n",
      "[[ 5 10 54]\n",
      " [25 30 63]\n",
      " [40 45 90]]\n",
      "[ 69 118 175]\n",
      "(3,)\n",
      "(3, 3)\n",
      "[[0. 0. 0. 0. 0.]\n",
      " [0. 0. 0. 0. 0.]\n",
      " [0. 0. 0. 0. 0.]\n",
      " [0. 0. 0. 0. 0.]]\n"
     ]
    }
   ],
   "source": [
    "a = np.array([[1, 2, 6],[5, 6, 7], [8, 9, 10]])\n",
    "b = np.array([5, 5, 9])\n",
    "print(a)\n",
    "print(a.T)\n",
    "c = a * b\n",
    "print(c)\n",
    "d = np.dot(a, b)\n",
    "print(d)\n",
    "print(d.shape)\n",
    "print(a.shape)"
   ]
  },
  {
   "cell_type": "code",
   "execution_count": 13,
   "metadata": {},
   "outputs": [
    {
     "name": "stdout",
     "output_type": "stream",
     "text": [
      "[[0. 0. 0. 0. 0.]\n",
      " [0. 0. 0. 0. 0.]\n",
      " [0. 0. 0. 0. 0.]\n",
      " [0. 0. 0. 0. 0.]]\n",
      "[[1. 1. 1. 1. 1.]\n",
      " [1. 1. 1. 1. 1.]\n",
      " [1. 1. 1. 1. 1.]]\n"
     ]
    }
   ],
   "source": [
    "z = np.zeros((4,5))\n",
    "print(z)\n",
    "o = np.ones((3, 5))\n",
    "print(o)"
   ]
  },
  {
   "cell_type": "code",
   "execution_count": 36,
   "metadata": {},
   "outputs": [
    {
     "name": "stdout",
     "output_type": "stream",
     "text": [
      "[[ 3.04720948]\n",
      " [12.17980725]\n",
      " [12.42042848]\n",
      " [18.07732955]\n",
      " [29.79711413]\n",
      " [40.91353493]\n",
      " [47.09943646]\n",
      " [52.10207453]\n",
      " [66.92231965]\n",
      " [72.41777718]]\n",
      "[[10.25175475]\n",
      " [28.43738943]\n",
      " [43.49714377]\n",
      " [44.33463401]\n",
      " [61.7523966 ]\n",
      " [64.02527419]\n",
      " [70.74325984]\n",
      " [81.41068682]\n",
      " [82.53227878]\n",
      " [91.1117661 ]]\n"
     ]
    },
    {
     "data": {
      "image/png": "[encoded data removed]",
      "text/plain": [
       "<Figure size 432x288 with 1 Axes>"
      ]
     },
     "metadata": {
      "needs_background": "light"
     },
     "output_type": "display_data"
    }
   ],
   "source": [
    "x = np.sort(100*np.random.rand(10, 1), axis=0)\n",
    "print(x)\n",
    "y = np.sort(100*np.random.rand(10, 1), axis=0)\n",
    "print(y)\n",
    "#plt.scatter(x, y)\n",
    "#plt.xlim(0,50)\n",
    "#plt.ylim(10,60)\n",
    "plt.plot(x, y)\n",
    "plt.show()\n"
   ]
  },
  {
   "cell_type": "code",
   "execution_count": null,
   "metadata": {},
   "outputs": [],
   "source": []
  }
 ],
 "metadata": {
  "kernelspec": {
   "display_name": "Python 3",
   "language": "python",
   "name": "python3"
  },
  "language_info": {
   "codemirror_mode": {
    "name": "ipython",
    "version": 3
   },
   "file_extension": ".py",
   "mimetype": "text/x-python",
   "name": "python",
   "nbconvert_exporter": "python",
   "pygments_lexer": "ipython3",
   "version": "3.7.3"
  }
 },
 "nbformat": 4,
 "nbformat_minor": 2
}
