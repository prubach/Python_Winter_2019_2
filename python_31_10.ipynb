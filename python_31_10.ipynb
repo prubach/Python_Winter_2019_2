{
 "cells": [
  {
   "cell_type": "code",
   "execution_count": 2,
   "metadata": {},
   "outputs": [
    {
     "name": "stdout",
     "output_type": "stream",
     "text": [
      " Volume in drive C is Windows\n",
      " Volume Serial Number is 3E8B-B32F\n",
      "\n",
      " Directory of C:\\Users\\prubac\n",
      "\n",
      "31.10.2019  13:50    <DIR>          .\n",
      "31.10.2019  13:50    <DIR>          ..\n",
      "24.10.2019  13:14    <DIR>          .anaconda\n",
      "24.10.2019  14:06    <DIR>          .conda\n",
      "24.10.2019  13:53                43 .condarc\n",
      "31.10.2019  13:50    <DIR>          .ipynb_checkpoints\n",
      "31.10.2019  13:48    <DIR>          .ipython\n",
      "24.10.2019  12:30    <DIR>          .PyCharm2019.2\n",
      "24.10.2019  13:47                 5 .python_history\n",
      "24.10.2019  13:35    <DIR>          .ssh\n",
      "10.10.2019  12:32    <DIR>          3D Objects\n",
      "23.09.2019  12:38    <DIR>          Application Data\n",
      "10.10.2019  12:32    <DIR>          Contacts\n",
      "10.10.2019  12:32    <DIR>          Desktop\n",
      "24.10.2019  12:42    <DIR>          Documents\n",
      "24.10.2019  12:28    <DIR>          Downloads\n",
      "10.10.2019  12:32    <DIR>          Favorites\n",
      "10.10.2019  12:32    <DIR>          Links\n",
      "10.10.2019  12:32    <DIR>          Music\n",
      "10.10.2019  14:10    <DIR>          Nowy folder\n",
      "24.10.2019  12:29    <DIR>          OneDrive\n",
      "10.10.2019  12:32    <DIR>          Pictures\n",
      "31.10.2019  13:50               572 python_31_10.ipynb\n",
      "10.10.2019  12:32    <DIR>          Saved Games\n",
      "10.10.2019  12:32    <DIR>          Searches\n",
      "10.10.2019  12:32    <DIR>          Videos\n",
      "               3 File(s)            620 bytes\n",
      "              23 Dir(s)  166˙632˙779˙776 bytes free\n"
     ]
    }
   ],
   "source": [
    "!dir"
   ]
  },
  {
   "cell_type": "code",
   "execution_count": 10,
   "metadata": {},
   "outputs": [],
   "source": [
    "# %matplotlib inline\n",
    "# %timeit\n",
    "#%%file data.txt\n",
    "#'abc;def;egwr;r56566;6'\n",
    "#'4665;5656'\n"
   ]
  },
  {
   "cell_type": "code",
   "execution_count": 12,
   "metadata": {},
   "outputs": [
    {
     "name": "stdout",
     "output_type": "stream",
     "text": [
      "984984984984984984984984984984984984984984984984\n"
     ]
    }
   ],
   "source": [
    "print(123123123123123123123123123123123123123123123123 * 8)"
   ]
  },
  {
   "cell_type": "code",
   "execution_count": 26,
   "metadata": {},
   "outputs": [
    {
     "name": "stdout",
     "output_type": "stream",
     "text": [
      "656546.7536554757\n",
      "6565467536554.757\n",
      "6.565467536554757e+18\n",
      "0.00012\n",
      "1.2e-17\n",
      "1.79e+308\n",
      "inf\n"
     ]
    }
   ],
   "source": [
    "a = 656546.7536554756756765\n",
    "print(a)\n",
    "a = 6565467536554.756756765\n",
    "print(a)\n",
    "a = 6565467536554756756.765\n",
    "print(a)\n",
    "b = 0.00012\n",
    "print(b)\n",
    "b = 0.000000000000000012\n",
    "print(b)\n",
    "\n",
    "# limit\n",
    "print(1.79e+308)\n",
    "print(1.8e+308)"
   ]
  },
  {
   "cell_type": "code",
   "execution_count": 29,
   "metadata": {},
   "outputs": [
    {
     "name": "stdout",
     "output_type": "stream",
     "text": [
      "9562\n",
      "255\n"
     ]
    }
   ],
   "source": [
    "print(0b10010101011010)\n",
    "print(0xff)"
   ]
  },
  {
   "cell_type": "code",
   "execution_count": 31,
   "metadata": {},
   "outputs": [
    {
     "name": "stdout",
     "output_type": "stream",
     "text": [
      "<class 'int'>\n",
      "<class 'float'>\n",
      "<class 'str'>\n"
     ]
    }
   ],
   "source": [
    "a = 353\n",
    "print(type(a))\n",
    "b = 05474.2425\n",
    "print(type(b))\n",
    "c = '43656356'\n",
    "print(type(c))"
   ]
  },
  {
   "cell_type": "code",
   "execution_count": 44,
   "metadata": {},
   "outputs": [
    {
     "name": "stdout",
     "output_type": "stream",
     "text": [
      "hsgsgksg'ssgsg\n",
      "hsgsgksg\"ssgsg\n",
      "hsgsgksg'ssgsg\n",
      "abc\tdef\n",
      "ab\\c\n",
      "abc\\tdef\\nab\\\\c\n",
      "i=50\n"
     ]
    }
   ],
   "source": [
    "s = \"hsgsgksg'ssgsg\"\n",
    "print(s)\n",
    "s = 'hsgsgksg\"ssgsg'\n",
    "print(s)\n",
    "s = 'hsgsgksg\\'ssgsg'\n",
    "print(s)\n",
    "print(\"abc\\tdef\\nab\\\\c\")\n",
    "print(r'abc\\tdef\\nab\\\\c')\n",
    "i = 50\n",
    "print(f'i={i}')\n"
   ]
  },
  {
   "cell_type": "code",
   "execution_count": 47,
   "metadata": {},
   "outputs": [
    {
     "name": "stdout",
     "output_type": "stream",
     "text": [
      "25\n",
      "1\n",
      "0\n"
     ]
    }
   ],
   "source": [
    "print(5**2)\n",
    "print(5%2)\n",
    "print(4%2)"
   ]
  },
  {
   "cell_type": "code",
   "execution_count": 50,
   "metadata": {},
   "outputs": [
    {
     "name": "stdout",
     "output_type": "stream",
     "text": [
      "a>4\n",
      "5\n"
     ]
    }
   ],
   "source": [
    "a = 5\n",
    "if a>4:\n",
    "    j = 5\n",
    "    print('a>4')\n",
    "print(j)"
   ]
  },
  {
   "cell_type": "code",
   "execution_count": 53,
   "metadata": {},
   "outputs": [
    {
     "name": "stdout",
     "output_type": "stream",
     "text": [
      "a=4\n"
     ]
    }
   ],
   "source": [
    "a=4\n",
    "if a>4:\n",
    "    j = 5\n",
    "    print('a>4')\n",
    "elif a==4:\n",
    "    print('a=4')\n",
    "else:\n",
    "    print('a<4')"
   ]
  },
  {
   "cell_type": "code",
   "execution_count": 57,
   "metadata": {},
   "outputs": [
    {
     "name": "stdout",
     "output_type": "stream",
     "text": [
      "True\n",
      "True\n",
      "True\n"
     ]
    }
   ],
   "source": [
    "a=4\n",
    "b=5\n",
    "p = a>3 and b>4 \n",
    "q = a>6 or b>=5\n",
    "print(p)\n",
    "print(q)\n",
    "r = (a>3) ^ (b>6)  #  XOR\n",
    "print(r)"
   ]
  },
  {
   "cell_type": "code",
   "execution_count": 60,
   "metadata": {},
   "outputs": [
    {
     "name": "stdout",
     "output_type": "stream",
     "text": [
      "0\n",
      "1\n",
      "2\n",
      "4\n"
     ]
    }
   ],
   "source": [
    "for i in range(7):\n",
    "    if i==3:\n",
    "        continue\n",
    "    if i==5:\n",
    "        break\n",
    "    print(i)"
   ]
  },
  {
   "cell_type": "code",
   "execution_count": 74,
   "metadata": {},
   "outputs": [
    {
     "name": "stdout",
     "output_type": "stream",
     "text": [
      "6\n",
      "43656356\n",
      "wrehetje\n",
      "43656356\n",
      "\n",
      "Hello\n",
      "abc\n"
     ]
    }
   ],
   "source": [
    "def p(a='Hello', var = c):\n",
    "    print(a)\n",
    "    print(var)\n",
    "\n",
    "    \n",
    "b = 6\n",
    "p(b)\n",
    "p('wrehetje')\n",
    "print()\n",
    "p(var='abc')"
   ]
  },
  {
   "cell_type": "code",
   "execution_count": 81,
   "metadata": {},
   "outputs": [
    {
     "name": "stdout",
     "output_type": "stream",
     "text": [
      "False\n",
      "True\n",
      "True\n",
      "False\n"
     ]
    }
   ],
   "source": [
    "print ('45646'.isalpha())\n",
    "print ('gfjfg'.isalpha())\n",
    "print ('45646'.isdigit())\n",
    "print ('45fdjjf646'.isdigit())\n"
   ]
  },
  {
   "cell_type": "code",
   "execution_count": 91,
   "metadata": {},
   "outputs": [
    {
     "name": "stdout",
     "output_type": "stream",
     "text": [
      "a=5\n",
      "56\n"
     ]
    }
   ],
   "source": [
    "a = 5\n",
    "print(\"a=\" + str(a))\n",
    "b = float(a)\n",
    "type(b)\n",
    "b = 56.6646\n",
    "c = int(b)\n",
    "print(c)"
   ]
  }
 ],
 "metadata": {
  "kernelspec": {
   "display_name": "Python 3",
   "language": "python",
   "name": "python3"
  },
  "language_info": {
   "codemirror_mode": {
    "name": "ipython",
    "version": 3
   },
   "file_extension": ".py",
   "mimetype": "text/x-python",
   "name": "python",
   "nbconvert_exporter": "python",
   "pygments_lexer": "ipython3",
   "version": "3.7.4"
  }
 },
 "nbformat": 4,
 "nbformat_minor": 2
}
