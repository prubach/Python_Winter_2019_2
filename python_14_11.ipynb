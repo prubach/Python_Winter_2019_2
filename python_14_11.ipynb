{
 "cells": [
  {
   "cell_type": "code",
   "execution_count": 13,
   "metadata": {
    "collapsed": true,
    "pycharm": {
     "is_executing": false
    }
   },
   "outputs": [
    {
     "name": "stdout",
     "text": [
      "AnyPoint_workspace\nCompProg\nCP_summer_2017\nCP_summer_2018\nCP_summer_2019\nCP_winter_2017\nCP_winter_2018\ncs\ndemo\nDydaktyka\nDYSK_I\nexcel-exercises\nEXEC\ngs-accessing-data-jpa\ngs-accessing-data-jpa____\nh2\njava\nJava_winter_2017\nkse\nMail\nmule_workspace\nMYDIR\nOceny\nOpera\nopinie\nPodania\nprofile.pds\nProg_ndz\npython1\npython2\nRozne\nSkanyCW\nStudent\ntemp\ntestBaza\ntmp\ntopoly_test\nworkspace3\nworkspace_2015\nworkspace_integracja_2016\nWWW\n"
     ],
     "output_type": "stream"
    }
   ],
   "source": [
    "import os\n",
    "\n",
    "dir = 'h:\\\\'\n",
    "files = os.listdir(dir)\n",
    "#print(files)\n",
    "for f in files:\n",
    "    if os.path.isdir(os.path.join(dir, f)):       \n",
    "        print(f)\n",
    "\n"
   ]
  },
  {
   "cell_type": "code",
   "execution_count": 14,
   "outputs": [
    {
     "name": "stdout",
     "text": [
      "file.txt\nfw.txt\nkig.txt\nkompy.txt\nmyfile.txt\nmytxtfile.txt\nnewfile.txt\nNowy dokument tekstowy.txt\nocena SKWE.txt\nout.txt\nout_.txt\nplik.txt\npliktekstowy.txt\nplikwe.txt\nplikwy.txt\nplik_out.txt\nplik_wy.txt\nsalaries_queries_2nd_version.txt.txt\nsamsung.txt\ntekst.txt\ntekstWy.txt\ntest.txt\ntestfile.txt\n"
     ],
     "output_type": "stream"
    }
   ],
   "source": [
    "for file in [f for f in os.listdir(dir) if f.endswith('txt')]:\n",
    "    print(file)\n"
   ],
   "metadata": {
    "collapsed": false,
    "pycharm": {
     "name": "#%%\n",
     "is_executing": false
    }
   }
  },
  {
   "cell_type": "code",
   "execution_count": 15,
   "outputs": [
    {
     "name": "stdout",
     "text": [
      "True\n"
     ],
     "output_type": "stream"
    }
   ],
   "source": [
    "p = 'h:\\\\fw.txt'\n",
    "print(os.path.isabs(p))\n"
   ],
   "metadata": {
    "collapsed": false,
    "pycharm": {
     "name": "#%%\n",
     "is_executing": false
    }
   }
  }
 ],
 "metadata": {
  "kernelspec": {
   "display_name": "Python 3",
   "language": "python",
   "name": "python3"
  },
  "language_info": {
   "codemirror_mode": {
    "name": "ipython",
    "version": 2
   },
   "file_extension": ".py",
   "mimetype": "text/x-python",
   "name": "python",
   "nbconvert_exporter": "python",
   "pygments_lexer": "ipython2",
   "version": "2.7.6"
  },
  "pycharm": {
   "stem_cell": {
    "cell_type": "raw",
    "source": [],
    "metadata": {
     "collapsed": false
    }
   }
  }
 },
 "nbformat": 4,
 "nbformat_minor": 0
}