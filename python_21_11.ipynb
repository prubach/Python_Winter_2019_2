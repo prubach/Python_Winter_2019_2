{
 "cells": [
  {
   "cell_type": "code",
   "execution_count": 5,
   "metadata": {
    "collapsed": true,
    "pycharm": {
     "is_executing": false
    }
   },
   "outputs": [
    {
     "name": "stdout",
     "text": [
      "H:\\python2\na = randn(1000,1000);\n\nb = randn(1000,1000);\n\n tic;[y]=nov(a,b); toc\n"
     ],
     "output_type": "stream"
    }
   ],
   "source": [
    "import os\n",
    "\n",
    "print(os.getcwd())\n",
    "\n",
    "#f_path = r'..\\test\\run.m'\n",
    "f_path = '..\\\\test\\\\run.m'\n",
    "\n",
    "with open(f_path, 'r') as in_f:\n",
    "    for line in in_f.readlines():\n",
    "        print(line)"
   ]
  },
  {
   "cell_type": "code",
   "execution_count": 7,
   "outputs": [
    {
     "name": "stdout",
     "text": [
      "15\n28\n"
     ],
     "output_type": "stream"
    }
   ],
   "source": [
    "def sum_row(row):\n",
    "    if row==1:\n",
    "        return 1\n",
    "    else:\n",
    "        return sum_row(row-1) + row\n",
    "    \n",
    "print(sum_row(5))\n",
    "print(sum_row(7))"
   ],
   "metadata": {
    "collapsed": false,
    "pycharm": {
     "name": "#%%\n",
     "is_executing": false
    }
   }
  },
  {
   "cell_type": "code",
   "execution_count": 9,
   "outputs": [
    {
     "name": "stdout",
     "text": [
      "file: 2_training_final.JPG 35810\nfile: @ 1\nfile: Adaptacyjna platforma agregacji modeli predykcyjnych_zajecia_2018.pptx 705170\nfile: Adresy.csv 22602\nfile: Analit_Wyzw_20171212_v2.ppt 2963968\ndir: AnyPoint_workspace\nfile: back.tgz 900\nfile: Bank.java 669\nfile: bmc.zip 1013916\nfile: Book1.csv 27\nfile: Book1.xlsx 8835\ndir: CompProg\nfile: CompProg_20161026.zip 47306\nfile: CompProg_20161102.zip 30783\nfile: CompProg_20161109.zip 38280\nfile: CompProg_20161116.zip 48889\nfile: CompProg_20161123.zip 63789\nfile: CompProg_20161130.zip 79047\nfile: CompProg_20161207.zip 80890\nfile: CompProg_20161214.zip 90910\nfile: CompProg_20170104.zip 181185\nfile: CompProg_20170111.zip 191670\nfile: convIso2utf 227\ndir: CP_summer_2017\ndir: CP_summer_2018\ndir: CP_summer_2019\ndir: CP_winter_2017\nfile: CP_winter_2017.jar 11401\ndir: CP_winter_2018\ndir: cs\nfile: customer.mv.db 20480\nfile: customer.trace.db 4292\nfile: dead.letter 300\ndir: demo\nfile: DEV_process_22102014.pptx 393170\nfile: Drafts 1814134\ndir: Dydaktyka\ndir: DYSK_I\nfile: EXAMPLE1.xls 28160\ndir: excel-exercises\nfile: excel-exercises.zip 54398\ndir: EXEC\nfile: file.txt 41\nfile: fw.txt 26\nfile: gr.Inf.xls 32768\ndir: gs-accessing-data-jpa\ndir: gs-accessing-data-jpa____\nfile: GuiInput.jar 12139\ndir: h2\nfile: Hello.class 412\nfile: Hello.java 114\nfile: HelloWorld.class 519\nfile: HelloWorld.java 307\nfile: http.docx 11954\nfile: IBIS_homework.xlsx 8134\nfile: ica.pdf 507319\nfile: index.php 7391\nfile: INSTALL 3725\nfile: Insurance_DB.accdb 802816\nfile: ISZ_wyklad_zast.pptx 3388309\ndir: java\ndir: Java_winter_2017\nfile: Junk 6213\nfile: kig.txt 61\nfile: klienci.csv 56\nfile: kolkokrzyzyk.xlsx 8002\nfile: kompy.txt 123\nfile: konto.csv 57\ndir: kse\nfile: kursy.csv 64\nfile: kursy_out.csv 29\nfile: LICENSE 17977\ndir: Mail\ndir: mule_workspace\ndir: MYDIR\nfile: myfile.txt 46\nfile: mysql_db_insert.sql 5916\nfile: mytxtfile.txt 40\nfile: newfile.txt 56\nfile: Northwind.mdb 3219456\nfile: Nowy dokument tekstowy.txt 0\nfile: ocena SKWE.txt 36920\ndir: Oceny\ndir: Opera\ndir: opinie\nfile: os.csv 74\nfile: out.txt 155\nfile: output.csv 106\nfile: out_.txt 23\nfile: pgadmin.log 164\nfile: plik.txt 84\nfile: plikbin.dat 216\nfile: pliktekstowy.txt 55\nfile: plikwe.csv 40\nfile: plikwe.txt 95\nfile: plikwy.txt 213\nfile: plik_out.txt 234\nfile: plik_wy.txt 28\ndir: Podania\ndir: profile.pds\ndir: Prog_ndz\nfile: Prog_ndz_20170305.zip 9039\nfile: Prog_ndz_20170319.zip 18006\nfile: Prog_ndz_20170402.zip 64074\nfile: PUTTY.RND 600\ndir: python1\ndir: python2\nfile: qmail_alias 877\nfile: root_bin.tgz 277\ndir: Rozne\nfile: salaries - Copy.mdb 942080\nfile: salaries.zip 60890\nfile: salaries_edu_forms_reports.mdb 626688\nfile: salaries_example_queries.mdb 942080\nfile: salaries_queries_2nd_version.txt.txt 699\nfile: salaries_with_examples.mdb 942080\nfile: salaries_with_examples_20181203.zip 60456\nfile: salaries_with_examples_20181210.zip 67555\nfile: samsung.txt 123\nfile: Sent Items 28746\ndir: SkanyCW\nfile: snake.zip 2703\ndir: Student\nfile: tekst.txt 32\nfile: tekstWy.txt 15\ndir: temp\ndir: test\nfile: test.mv.db 438272\nfile: test.trace.db 2947\nfile: test.txt 37\ndir: testBaza\nfile: testfile.txt 42\nfile: Thumbs.db 23040\ndir: tmp\ndir: topoly_test\nfile: Totoro.cap 65803\nfile: Trash 559\nfile: treeinfo.wc 3813\nfile: VideoRental.accdb 1736704\nfile: Video_Rental.accdb 663552\nfile: WinSCP.exe 18886048\nfile: WinSCP.ini 13068\nfile: winscp.RND 600\nfile: Workshop_MT_for_CAE_v1_20171015RMK.pptx 7040952\ndir: workspace3\ndir: workspace_2015\ndir: workspace_integracja_2016\ndir: WWW\nfile: wykresssss ERD.jpg 69682\nfile: Wys&AUI-ane 504\nfile: Zeszyt1.csv 54\nfile: Zeszyt1.xlsx 9519\nfile: ~ 179401\nfile: ~$http.docx 162",
      "\nfile: ~$ISZ_wyklad_zast.pptx 165\n"
     ],
     "output_type": "stream"
    }
   ],
   "source": [
    "dir = 'h:\\\\'\n",
    "files = os.listdir(dir)\n",
    "#print(files)\n",
    "for f in files:\n",
    "    if os.path.isdir(os.path.join(dir, f)):       \n",
    "        print('dir: ' + f)\n",
    "    else:\n",
    "        print('file: ' + f + ' ' + \n",
    "              str(os.path.getsize(os.path.join(dir, f))))\n"
   ],
   "metadata": {
    "collapsed": false,
    "pycharm": {
     "name": "#%%\n",
     "is_executing": false
    }
   }
  }
 ],
 "metadata": {
  "kernelspec": {
   "display_name": "Python 3",
   "language": "python",
   "name": "python3"
  },
  "language_info": {
   "codemirror_mode": {
    "name": "ipython",
    "version": 2
   },
   "file_extension": ".py",
   "mimetype": "text/x-python",
   "name": "python",
   "nbconvert_exporter": "python",
   "pygments_lexer": "ipython2",
   "version": "2.7.6"
  },
  "pycharm": {
   "stem_cell": {
    "cell_type": "raw",
    "source": [],
    "metadata": {
     "collapsed": false
    }
   }
  }
 },
 "nbformat": 4,
 "nbformat_minor": 0
}